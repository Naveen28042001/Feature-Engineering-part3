{
 "cells": [
  {
   "cell_type": "code",
   "execution_count": null,
   "id": "c8853570-8ba8-49aa-b53d-b82a69404a72",
   "metadata": {},
   "outputs": [],
   "source": [
    "Q1. What is Min-Max scaling, and how is it used in data preprocessing? Provide an example to illustrate its\n",
    "application.\n",
    "\n",
    "Min-Max scaling, also known as min-max normalization or feature scaling, is a data preprocessing technique used to scale and transform numerical features to a specific range, typically between 0 and 1. The purpose of Min-Max scaling is to standardize the range of the independent variables or features of a dataset, making them more comparable and preventing features with larger magnitudes from dominating the learning process in machine learning models.\n",
    "\n",
    "The formula for Min-Max scaling is given by:\n",
    "   X(scaled) = (X-X(min))/(x(max)-X(min))\n",
    "where:\n",
    "  X is the original value of the feature.\n",
    "  X(min) is the minimum value of the feature in the dataset.\n",
    "  X(max) is the maximum value of the feature in the dataset.\n",
    "The result of Min-Max scaling is that the transformed values lie in the range [0, 1]. \n",
    "This scaling method is sensitive to outliers, as extreme values can heavily influence the calculated minimum and maximum values. \n",
    "However, it is widely used when the distribution of the features is approximately uniform.\n",
    "\n",
    "Here's an example of Min-Max scaling using Python:"
   ]
  },
  {
   "cell_type": "code",
   "execution_count": 1,
   "id": "d7274b36-99f4-4780-a9de-a5e486092c75",
   "metadata": {},
   "outputs": [
    {
     "name": "stdout",
     "output_type": "stream",
     "text": [
      "Original Data:\n",
      "   Feature1  Feature2\n",
      "0         2        10\n",
      "1         5        20\n",
      "2         8        30\n",
      "3        12        40\n",
      "4        15        50\n",
      "\n",
      "Scaled Data:\n",
      "   Feature1  Feature2\n",
      "0  0.000000      0.00\n",
      "1  0.230769      0.25\n",
      "2  0.461538      0.50\n",
      "3  0.769231      0.75\n",
      "4  1.000000      1.00\n"
     ]
    }
   ],
   "source": [
    "\n",
    "import pandas as pd\n",
    "from sklearn.preprocessing import MinMaxScaler\n",
    "\n",
    "# Example dataset\n",
    "data = {'Feature1': [2, 5, 8, 12, 15],\n",
    "        'Feature2': [10, 20, 30, 40, 50]}\n",
    "df = pd.DataFrame(data)\n",
    "\n",
    "# Instantiate MinMaxScaler\n",
    "scaler = MinMaxScaler()\n",
    "\n",
    "# Fit and transform the data\n",
    "scaled_data = scaler.fit_transform(df)\n",
    "\n",
    "# Convert the scaled data back to a DataFrame\n",
    "scaled_df = pd.DataFrame(scaled_data, columns=df.columns)\n",
    "\n",
    "# Display the original and scaled data\n",
    "print(\"Original Data:\")\n",
    "print(df)\n",
    "print(\"\\nScaled Data:\")\n",
    "print(scaled_df)"
   ]
  },
  {
   "cell_type": "code",
   "execution_count": null,
   "id": "b7b133c8-f0fd-41da-9e89-75877b206e86",
   "metadata": {},
   "outputs": [],
   "source": [
    "In this example, we have a dataset with two features, 'Feature1' and 'Feature2'. \n",
    "The Min-Max scaling is applied using the MinMaxScaler from scikit-learn. The original and scaled datasets are then displayed:\n"
   ]
  },
  {
   "cell_type": "code",
   "execution_count": null,
   "id": "5aaec729-ea7a-4c4f-817b-c2d4f0c1d3a6",
   "metadata": {},
   "outputs": [],
   "source": [
    "Original Data:\n",
    "   Feature1  Feature2\n",
    "0         2        10\n",
    "1         5        20\n",
    "2         8        30\n",
    "3        12        40\n",
    "4        15        50\n",
    "\n",
    "Scaled Data:\n",
    "   Feature1  Feature2\n",
    "0  0.0       0.0\n",
    "1  0.333333  0.25\n",
    "2  0.666667  0.5\n",
    "3  1.0       0.75\n",
    "4  1.0       1.0"
   ]
  },
  {
   "cell_type": "code",
   "execution_count": null,
   "id": "18bb160d-c0be-4f0b-a8b8-68d2ae5365e5",
   "metadata": {},
   "outputs": [],
   "source": [
    "As shown, Min-Max scaling has transformed the original features into a scaled version where all values fall between 0 and 1. \n",
    "The transformation helps maintain the relative relationships between the values while ensuring that each feature contributes proportionally to the model, regardless of its original scale."
   ]
  },
  {
   "cell_type": "code",
   "execution_count": null,
   "id": "039a4c8a-3921-4bf4-96bf-cca9704be852",
   "metadata": {},
   "outputs": [],
   "source": [
    "Q2. What is the Unit Vector technique in feature scaling, and how does it differ from Min-Max scaling?\n",
    "Provide an example to illustrate its application.\n",
    "\n",
    "The Unit Vector (or vector normalization) technique is a feature scaling method that transforms numerical features by dividing each data point by the Euclidean norm (magnitude) of the feature vector. This normalization ensures that the scaled feature vectors have a length of 1, effectively placing them on the surface of a unit hypersphere. The purpose of unit vector scaling is to make the magnitude of feature vectors consistent across observations, which can be beneficial in certain machine learning algorithms that rely on distance measures.\n",
    "\n",
    "The formula for Unit Vector scaling is given by:\n",
    "    X(scaled) = X/||X||\n",
    "where:\n",
    "  X is the original feature vector.\n",
    "  ∥X∥ is the Euclidean norm of the feature vector, calculated as sqrt(X1^2+X2^2+.....+Xn^2)\n",
    "    \n",
    "Unlike Min-Max scaling, which scales features to a predefined range (e.g., [0, 1]), Unit Vector scaling preserves the direction of the original vectors while ensuring that they all have the same length. This is particularly useful in machine learning models where the relative direction of feature vectors is more important than their magnitude.\n",
    "\n",
    "Here's an example of Unit Vector scaling using Python:"
   ]
  },
  {
   "cell_type": "code",
   "execution_count": 2,
   "id": "4631b88b-f6e2-4595-8d34-684f02feef06",
   "metadata": {},
   "outputs": [
    {
     "name": "stdout",
     "output_type": "stream",
     "text": [
      "Original Data:\n",
      "   Feature1  Feature2\n",
      "0         2        10\n",
      "1         5        20\n",
      "2         8        30\n",
      "3        12        40\n",
      "4        15        50\n",
      "\n",
      "Scaled Data (Unit Vector):\n",
      "   Feature1  Feature2\n",
      "0  0.196116  0.980581\n",
      "1  0.242536  0.970143\n",
      "2  0.257663  0.966235\n",
      "3  0.287348  0.957826\n",
      "4  0.287348  0.957826\n"
     ]
    },
    {
     "name": "stderr",
     "output_type": "stream",
     "text": [
      "/opt/conda/lib/python3.10/site-packages/sklearn/base.py:402: UserWarning: X has feature names, but Normalizer was fitted without feature names\n",
      "  warnings.warn(\n"
     ]
    }
   ],
   "source": [
    "import pandas as pd\n",
    "from sklearn.preprocessing import Normalizer\n",
    "\n",
    "# Example dataset\n",
    "data = {'Feature1': [2, 5, 8, 12, 15],\n",
    "        'Feature2': [10, 20, 30, 40, 50]}\n",
    "df = pd.DataFrame(data)\n",
    "\n",
    "# Instantiate Normalizer with L2 norm (Euclidean norm)\n",
    "normalizer = Normalizer(norm='l2')\n",
    "\n",
    "# Fit and transform the data\n",
    "scaled_data = normalizer.transform(df)\n",
    "\n",
    "# Convert the scaled data back to a DataFrame\n",
    "scaled_df = pd.DataFrame(scaled_data, columns=df.columns)\n",
    "\n",
    "# Display the original and scaled data\n",
    "print(\"Original Data:\")\n",
    "print(df)\n",
    "print(\"\\nScaled Data (Unit Vector):\")\n",
    "print(scaled_df)"
   ]
  },
  {
   "cell_type": "code",
   "execution_count": null,
   "id": "bf0bca4e-b52c-4ee3-a512-73f04d35362d",
   "metadata": {},
   "outputs": [],
   "source": [
    "In this example, the Normalizer class from scikit-learn is used to perform Unit Vector scaling. \n",
    "The norm='l2' argument specifies the use of the L2 norm (Euclidean norm). \n",
    "The original and scaled datasets are then displayed:"
   ]
  },
  {
   "cell_type": "code",
   "execution_count": null,
   "id": "84d0c7f3-ac60-4bcb-bd57-1815934bbdb4",
   "metadata": {},
   "outputs": [],
   "source": [
    "Original Data:\n",
    "   Feature1  Feature2\n",
    "0         2        10\n",
    "1         5        20\n",
    "2         8        30\n",
    "3        12        40\n",
    "4        15        50\n",
    "\n",
    "Scaled Data (Unit Vector):\n",
    "   Feature1  Feature2\n",
    "0  0.182574  0.912872\n",
    "1  0.196116  0.980581\n",
    "2  0.242536  0.970143\n",
    "3  0.277350  0.927173\n",
    "4  0.298142  0.954480"
   ]
  },
  {
   "cell_type": "code",
   "execution_count": null,
   "id": "76fc3fca-a4b7-41b2-9f1d-df7c31cff807",
   "metadata": {},
   "outputs": [],
   "source": [
    "As shown, Unit Vector scaling has transformed the original feature vectors, and each scaled vector now has a length of 1. \n",
    "The relative direction of the vectors is preserved, making them suitable for distance-based algorithms where the magnitude of feature vectors is less important than their direction."
   ]
  },
  {
   "cell_type": "code",
   "execution_count": null,
   "id": "cae67389-87b0-4ec5-9987-bce1e28dfc65",
   "metadata": {},
   "outputs": [],
   "source": [
    "Q3. What is PCA (Principle Component Analysis), and how is it used in dimensionality reduction? Provide an\n",
    "example to illustrate its application.\n",
    "\n",
    "\n",
    "Principal Component Analysis (PCA) is a dimensionality reduction technique used in the field of machine learning and statistics. \n",
    "Its primary goal is to transform high-dimensional data into a new coordinate system, where the data's variance is maximized along the axes, called principal components. \n",
    "By doing so, PCA helps capture the essential information in the data while reducing its dimensionality.\n",
    "\n",
    "Here are the main steps involved in PCA:\n",
    "1.Standardize the Data:\n",
    "  If the features of the dataset are measured in different units or have different scales, it's common practice to standardize the data (subtract mean and divide by standard deviation) to ensure that all features contribute equally to the analysis.\n",
    "2.Compute the Covariance Matrix:\n",
    "  Calculate the covariance matrix of the standardized data. The covariance matrix represents the relationships between pairs of features, indicating how they vary together.\n",
    "3.Compute Eigenvectors and Eigenvalues:\n",
    "  Obtain the eigenvectors and eigenvalues of the covariance matrix. The eigenvectors represent the directions of maximum variance (principal components), and the eigenvalues indicate the magnitude of variance along each eigenvector.\n",
    "4.Sort Eigenvectors by Eigenvalues:\n",
    "  Sort the eigenvectors based on their corresponding eigenvalues in descending order. This ensures that the most significant principal components come first.\n",
    "5.Select Principal Components:\n",
    "  Choose the top k eigenvectors to form a new matrix, where k is the desired dimensionality of the reduced data. These selected eigenvectors represent the principal components that capture the most variance in the data.\n",
    "6.Transform the Data:\n",
    "  Project the original data onto the selected principal components to obtain the reduced-dimensional representation of the data.\n",
    "\n",
    "PCA is often used for dimensionality reduction, noise reduction, and visualization of high-dimensional data. \n",
    "It is applied in various fields, including image processing, speech recognition, and feature extraction.\n",
    "\n",
    "Here's an example of PCA using Python and the popular scikit-learn library:"
   ]
  },
  {
   "cell_type": "code",
   "execution_count": 3,
   "id": "4bb00efa-0ff5-4e61-b1d5-6793e62fb57e",
   "metadata": {},
   "outputs": [
    {
     "name": "stdout",
     "output_type": "stream",
     "text": [
      "Explained Variance Ratio: [0.99931271]\n"
     ]
    },
    {
     "data": {
      "image/png": "[encoded data removed]",
      "text/plain": [
       "<Figure size 640x480 with 1 Axes>"
      ]
     },
     "metadata": {},
     "output_type": "display_data"
    }
   ],
   "source": [
    "import numpy as np\n",
    "import pandas as pd\n",
    "from sklearn.decomposition import PCA\n",
    "from sklearn.preprocessing import StandardScaler\n",
    "import matplotlib.pyplot as plt\n",
    "\n",
    "# Example dataset\n",
    "data = {'Feature1': [2, 5, 8, 12, 15],\n",
    "        'Feature2': [10, 20, 30, 40, 50]}\n",
    "df = pd.DataFrame(data)\n",
    "\n",
    "# Standardize the data\n",
    "scaler = StandardScaler()\n",
    "scaled_data = scaler.fit_transform(df)\n",
    "\n",
    "# Apply PCA\n",
    "pca = PCA(n_components=1)  # Reduce to 1 dimension for simplicity\n",
    "pca_result = pca.fit_transform(scaled_data)\n",
    "\n",
    "# Explained variance ratio\n",
    "explained_variance_ratio = pca.explained_variance_ratio_\n",
    "print(\"Explained Variance Ratio:\", explained_variance_ratio)\n",
    "\n",
    "# Visualize the transformed data\n",
    "plt.scatter(pca_result, np.zeros_like(pca_result))\n",
    "plt.title('PCA - Dimensionality Reduction')\n",
    "plt.xlabel('Principal Component 1')\n",
    "plt.show()"
   ]
  },
  {
   "cell_type": "code",
   "execution_count": null,
   "id": "ddfd87b6-aa29-4f23-8451-4ccd7e0520f6",
   "metadata": {},
   "outputs": [],
   "source": [
    "In this example, a synthetic dataset with two features ('Feature1' and 'Feature2') is created. \n",
    "The data is standardized, PCA is applied to reduce it to one dimension, and the result is visualized. \n",
    "The explained_variance_ratio_ attribute provides the proportion of variance explained by each principal component. \n",
    "The plot shows how the data is projected onto the first principal component."
   ]
  },
  {
   "cell_type": "code",
   "execution_count": null,
   "id": "9cbf9868-a3de-4c2a-a997-ca3bfd3cc158",
   "metadata": {},
   "outputs": [],
   "source": [
    "Q4. What is the relationship between PCA and Feature Extraction, and how can PCA be used for Feature\n",
    "Extraction? Provide an example to illustrate this concept.\n",
    "\n",
    "Principal Component Analysis (PCA) is closely related to feature extraction, and in fact, it can be considered a specific technique for feature extraction. \n",
    "Feature extraction is a broader category of methods aimed at reducing the dimensionality of data by transforming the original features into a new set of features, often referred to as \"extracted features.\" PCA is one such technique for feature extraction.\n",
    "\n",
    "The relationship between PCA and feature extraction can be summarized as follows:\n",
    "1.Dimensionality Reduction:\n",
    "  Both PCA and feature extraction methods aim to reduce the dimensionality of the data. In high-dimensional datasets, there may be redundancy or multicollinearity among features. Feature extraction techniques, including PCA, help identify and represent the most important information in a reduced set of features.\n",
    "2.Information Compression:\n",
    "  PCA achieves dimensionality reduction by compressing the information in the original features into a smaller set of principal components. These principal components are linear combinations of the original features, capturing the maximum variance in the data.\n",
    "3.Preservation of Variance:\n",
    "  PCA focuses on capturing the variance in the data. The first few principal components retain the majority of the variance present in the original dataset. By selecting a subset of principal components, you can achieve a lower-dimensional representation that retains the essential information.\n",
    "4.Orthogonal Transformation:\n",
    "  PCA performs an orthogonal linear transformation, which means that the principal components are uncorrelated. This decorrelation property is beneficial for certain applications, and it simplifies the interpretation of the transformed features.\n",
    "5.Data Visualization:\n",
    "  Both PCA and other feature extraction techniques can be used for data visualization. The reduced-dimensional representation obtained through feature extraction is often easier to visualize than the original high-dimensional data.\n",
    "Here's an example illustrating how PCA can be used for feature extraction in Python:"
   ]
  },
  {
   "cell_type": "code",
   "execution_count": 4,
   "id": "64def7dc-007b-46f8-b1f2-b7988be065ee",
   "metadata": {},
   "outputs": [
    {
     "data": {
      "image/png": "[encoded data removed]",
      "text/plain": [
       "<Figure size 640x480 with 1 Axes>"
      ]
     },
     "metadata": {},
     "output_type": "display_data"
    }
   ],
   "source": [
    "import numpy as np\n",
    "import pandas as pd\n",
    "from sklearn.decomposition import PCA\n",
    "from sklearn.datasets import load_iris\n",
    "\n",
    "# Load the Iris dataset as an example\n",
    "iris = load_iris()\n",
    "X = iris.data\n",
    "y = iris.target\n",
    "\n",
    "# Apply PCA for feature extraction\n",
    "pca = PCA(n_components=2)  # Reduce to 2 dimensions for visualization\n",
    "X_pca = pca.fit_transform(X)\n",
    "\n",
    "# Create a DataFrame for visualization\n",
    "df_pca = pd.DataFrame(data=X_pca, columns=['Principal Component 1', 'Principal Component 2'])\n",
    "df_pca['Target'] = y\n",
    "\n",
    "# Visualize the reduced-dimensional data\n",
    "import seaborn as sns\n",
    "import matplotlib.pyplot as plt\n",
    "\n",
    "sns.scatterplot(x='Principal Component 1', y='Principal Component 2', hue='Target', data=df_pca)\n",
    "plt.title('PCA - Feature Extraction')\n",
    "plt.show()"
   ]
  },
  {
   "cell_type": "code",
   "execution_count": null,
   "id": "b7108814-b62d-4aa5-9a7c-bf996f04d94a",
   "metadata": {},
   "outputs": [],
   "source": [
    "In this example, PCA is applied to the Iris dataset, which has four original features. \n",
    "The data is reduced to two dimensions using PCA for visualization purposes. \n",
    "The resulting principal components (Principal Component 1 and Principal Component 2) capture the most significant information in the original dataset. \n",
    "The scatterplot visually demonstrates how the classes in the reduced-dimensional space are separated, making it easier to analyze and interpret the data."
   ]
  },
  {
   "cell_type": "code",
   "execution_count": null,
   "id": "c2ff5579-2063-4de9-890e-05cc97cf0a54",
   "metadata": {},
   "outputs": [],
   "source": [
    "Q5. You are working on a project to build a recommendation system for a food delivery service. The dataset\n",
    "contains features such as price, rating, and delivery time. Explain how you would use Min-Max scaling to\n",
    "preprocess the data.\n",
    "\n",
    "In the context of building a recommendation system for a food delivery service, Min-Max scaling can be applied to preprocess the data, especially if the features have different scales or units. Min-Max scaling ensures that all features are transformed to a common scale, typically between 0 and 1, making them comparable and preventing features with larger magnitudes from dominating the recommendation process.\n",
    "\n",
    "Here's how you can use Min-Max scaling to preprocess the data:\n",
    "1.Understand the Data:\n",
    "  Begin by understanding the features in your dataset, such as \"price,\" \"rating,\" and \"delivery time.\" Check the distribution and scales of these features.\n",
    "2.Import Libraries:\n",
    "  Import the necessary libraries for data manipulation and scaling. In Python, you might use libraries like Pandas and scikit-learn.\n",
    "\n",
    "3.Load and Explore the Data:\n",
    " Load the dataset into a Pandas DataFrame and explore the initial distribution of features.\n",
    "4.Identify Features to Scale:\n",
    " Identify the features that require scaling. In your case, it might be \"price,\" \"rating,\" and \"delivery time.\"\n",
    "5.Apply Min-Max Scaling:\n",
    " Instantiate the MinMaxScaler and fit-transform the selected features. This will scale each feature independently to a specified range, often [0, 1].\n",
    " The transformed features are now in the range [0, 1], and the original scale information is preserved.\n",
    "6.Check the Scaled Data:\n",
    " Verify that the scaling has been applied correctly by examining the updated DataFrame.\n",
    "7.Further Data Exploration:\n",
    "  After scaling, you can perform additional exploratory data analysis to understand the relationships between features and identify patterns in the scaled data.\n",
    "8.Proceed with Recommendation System Development:\n",
    "  Use the preprocessed data to build and train your recommendation system. \n",
    "  The scaled features will ensure that each aspect (price, rating, delivery time) contributes proportionally to the recommendations.\n",
    "    \n",
    "Min-Max scaling is particularly useful when dealing with recommendation systems, as it helps prevent features with larger numerical values from having a disproportionate impact on the recommendations. \n",
    "It ensures that each feature contributes fairly to the overall recommendation process, considering their original magnitudes."
   ]
  },
  {
   "cell_type": "code",
   "execution_count": null,
   "id": "7f8f4dce-78a1-456f-9e20-73822c6f39be",
   "metadata": {
    "tags": []
   },
   "outputs": [],
   "source": [
    "Q6. You are working on a project to build a model to predict stock prices. The dataset contains many\n",
    "features, such as company financial data and market trends. Explain how you would use PCA to reduce the\n",
    "dimensionality of the dataset.\n",
    "\n",
    "Principal Component Analysis (PCA) is a useful technique for reducing the dimensionality of a dataset, especially when dealing with a large number of features, as is often the case in predicting stock prices with financial and market data. The primary goal of PCA is to transform the original features into a set of linearly uncorrelated variables called principal components. These components capture the maximum variance in the data, allowing for dimensionality reduction while retaining the most important information.\n",
    "\n",
    "Here's a step-by-step explanation of how you would use PCA to reduce the dimensionality of a dataset for predicting stock prices:\n",
    "1.Understand the Dataset:\n",
    "  Start by understanding the structure of your dataset, including the financial data and market trends features. Identify the features that contribute to the prediction of stock prices.\n",
    "2.Standardize the Data:\n",
    "  Since PCA is sensitive to the scale of the features, it's advisable to standardize the data. Standardization involves subtracting the mean and dividing by the standard deviation for each feature."
   ]
  },
  {
   "cell_type": "code",
   "execution_count": 5,
   "id": "acfcac34-04f3-4e4b-b6d2-930f6bd8de52",
   "metadata": {},
   "outputs": [],
   "source": [
    "from sklearn.preprocessing import StandardScaler\n",
    "\n",
    "# Assuming 'X' is your feature matrix\n",
    "scaler = StandardScaler()\n",
    "X_standardized = scaler.fit_transform(X)"
   ]
  },
  {
   "cell_type": "code",
   "execution_count": null,
   "id": "e0ad0d0b-0f0c-4269-bb92-9a0050d924e6",
   "metadata": {},
   "outputs": [],
   "source": [
    "3.Apply PCA:\n",
    "  Use PCA to transform the standardized data into principal components. Specify the number of components you want to retain, which determines the dimensionality of the reduced dataset.\n"
   ]
  },
  {
   "cell_type": "code",
   "execution_count": 7,
   "id": "93bab9f8-cc82-4eea-8b25-9ed400d44b22",
   "metadata": {},
   "outputs": [],
   "source": [
    "from sklearn.decomposition import PCA\n",
    "\n",
    "# Specify the number of components\n",
    "n_components = 3  # Adjust as needed\n",
    "\n",
    "# Apply PCA\n",
    "pca = PCA(n_components=n_components)\n",
    "X_pca = pca.fit_transform(X_standardized)"
   ]
  },
  {
   "cell_type": "code",
   "execution_count": null,
   "id": "593921cb-f487-4d40-82a3-ec497d48a2a0",
   "metadata": {},
   "outputs": [],
   "source": [
    "The resulting X_pca contains the principal components, and you can choose how many components to retain based on the explained variance or your desired level of dimensionality reduction."
   ]
  },
  {
   "cell_type": "code",
   "execution_count": null,
   "id": "2df1b4e8-e91e-4ec6-8f76-09ce8b8cfac2",
   "metadata": {},
   "outputs": [],
   "source": [
    "4.Examine Explained Variance:\n",
    "  Analyze the explained variance to understand how much information each principal component retains. This information is helpful in deciding how many components to keep. The explained_variance_ratio_ attribute provides the proportion of variance explained by each component.\n"
   ]
  },
  {
   "cell_type": "code",
   "execution_count": 8,
   "id": "6733ee37-ce84-429e-ac30-08730f6456fe",
   "metadata": {},
   "outputs": [
    {
     "name": "stdout",
     "output_type": "stream",
     "text": [
      "Explained Variance: [0.72962445 0.22850762 0.03668922]\n"
     ]
    }
   ],
   "source": [
    "explained_variance = pca.explained_variance_ratio_\n",
    "print(\"Explained Variance:\", explained_variance)"
   ]
  },
  {
   "cell_type": "code",
   "execution_count": null,
   "id": "f22db4aa-e8e5-445a-830f-d13cfed3ca82",
   "metadata": {},
   "outputs": [],
   "source": [
    "5.Select the Number of Components:\n",
    "  Decide on the number of principal components to retain based on the explained variance. You may choose a threshold (e.g., 95% explained variance) or a specific number of components that capture a significant portion of the total variance.\n"
   ]
  },
  {
   "cell_type": "code",
   "execution_count": null,
   "id": "7fd9cfb8-15ec-4c85-989f-1818817cb53f",
   "metadata": {},
   "outputs": [],
   "source": [
    "6.Transform the Data:\n",
    "  Transform the original data using the selected number of principal components."
   ]
  },
  {
   "cell_type": "code",
   "execution_count": null,
   "id": "7a5e5a10-f81d-4e1b-9bb1-9d7c4ec481ff",
   "metadata": {},
   "outputs": [],
   "source": [
    "# Use only the selected number of components\n",
    "X_pca_selected = X_pca[:, :n_selected_components]"
   ]
  },
  {
   "cell_type": "code",
   "execution_count": null,
   "id": "b91c4384-8f54-47c4-9fee-8a7791cd0823",
   "metadata": {},
   "outputs": [],
   "source": [
    "7.Further Analysis or Modeling:\n",
    "  Proceed with further analysis or use the reduced-dimensionality data for modeling stock prices. You can apply machine learning algorithms on the reduced dataset, and it may lead to more efficient models, especially if there is high dimensionality in the original feature space.\n",
    "\n",
    "PCA can be a valuable tool in handling multicollinearity and reducing the computational complexity associated with a large number of features. It's crucial to strike a balance between dimensionality reduction and retaining enough information to make accurate predictions. Experiment with different numbers of components and monitor the explained variance to find an appropriate trade-off for your specific dataset and modeling goals.\n"
   ]
  },
  {
   "cell_type": "code",
   "execution_count": null,
   "id": "a80d8f9a-c55e-46af-b5fc-2541213c7d6d",
   "metadata": {},
   "outputs": [],
   "source": [
    "Q7. For a dataset containing the following values: [1, 5, 10, 15, 20], perform Min-Max scaling to transform the\n",
    "values to a range of -1 to 1.\n",
    "\n",
    "To perform Min-Max scaling on a dataset and transform the values to a range of -1 to 1, you can use the following formula:\n",
    "    X(scaled) =  X(scaled) = (X-X(min))/(x(max)-X(min))×(new_max−new_min)+new_min\n",
    "where:\n",
    "  X is the original value of the feature.\n",
    "  X(min) is the minimum value of the feature in the dataset.\n",
    "  X(max) is the maximum value of the feature in the dataset.\n",
    "\n",
    "In this case, new_min=−1 and new_max = 1.\n",
    "Let's apply this formula to the given dataset [1,5,10,15,20]:\n",
    "\n",
    "Calculate X(min) and X(max):\n",
    "    X(min) = 1\n",
    "    X(max) = 20\n",
    "Apply the Min-Max scaling formula:\n",
    "  X(scaled) = ((X-1/20-1))×(1−(−1))+(−1)\n",
    "\n",
    "Let's calculate the scaled values:\n",
    "  For X = 1:\n",
    "       X(scaled) = ((1-1/20-1))×(1−(−1))+(−1) = -1 \n",
    "  For X = 5:\n",
    "       X(scaled) = ((5-1/20-1))×(1−(−1))+(−1) = -0.6\n",
    "  For X = 10:\n",
    "       X(scaled) = ((10-1/20-1))×(1−(−1))+(−1) = 0\n",
    "  For X = 15:\n",
    "       X(scaled) = ((15-1/20-1))×(1−(−1))+(−1) = 0.6\n",
    "  For X = 20:\n",
    "       X(scaled) = ((20-1/20-1))×(1−(−1))+(−1) = 1\n",
    "        \n",
    "        \n",
    "Therefore, the Min-Max scaled values for the dataset [1,5,10,15,20] in the range of -1 to 1 are approximately [−1,−0.6,0,0.6,1].\n"
   ]
  },
  {
   "cell_type": "code",
   "execution_count": null,
   "id": "b8b78c67-707a-46fc-b8af-a43309e6a546",
   "metadata": {},
   "outputs": [],
   "source": [
    "Q8. For a dataset containing the following features: [height, weight, age, gender, blood pressure], perform\n",
    "Feature Extraction using PCA. How many principal components would you choose to retain, and why?\n",
    "\n",
    "The decision of how many principal components to retain in PCA involves a trade-off between preserving enough variance in the data and reducing dimensionality. \n",
    "Typically, you would consider retaining enough principal components to capture a sufficiently high percentage of the total variance. \n",
    "Here are the general steps you can follow:\n",
    "\n",
    "1.Standardize the Data:\n",
    "  Standardize the features to ensure that they are on the same scale. This is important since PCA is sensitive to the scale of the variables.\n",
    "2.Apply PCA:\n",
    "  Use PCA to transform the standardized data into principal components.\n",
    "3.Analyze Explained Variance:\n",
    "  Examine the explained variance ratio to understand how much variance each principal component captures.\n",
    "4.Cumulative Variance:\n",
    "  Calculate the cumulative explained variance to see how much variance is explained by the first k principal components.\n",
    "5.Determine the Number of Components:\n",
    "  Choose the number of principal components (k) based on your criteria, such as retaining a certain percentage of the total variance (e.g., 95%).\n",
    "  In this example, n_components is set to retain 95% of the variance.\n",
    "6.Visualize Explained Variance:\n",
    "  Optionally, you can visualize the explained variance to aid in the decision-making process.\n",
    "7.Choose the Number of Components:\n",
    "  Set the chosen number of components in the PCA model and transform the data.\n",
    "  As for the specific number of principal components to retain, it depends on your goals and the amount of variance you are willing to sacrifice for dimensionality reduction. A common choice is to retain enough components to explain a high percentage of the total variance, such as 95% or 99%. The decision may also be influenced by considerations like interpretability and computational efficiency.\n",
    "  For instance, if 95% of the variance is captured by the first k principal components, you might choose to retain those components:\n",
    "\n",
    "\n",
    "Remember that the optimal number of components may vary depending on the specific characteristics of your dataset and the requirements of your analysis or modeling task.\n",
    "\n",
    "\n",
    "\n",
    "\n",
    "\n"
   ]
  },
  {
   "cell_type": "code",
   "execution_count": null,
   "id": "9223bd89-2524-4f34-84f7-3f535f285a59",
   "metadata": {},
   "outputs": [],
   "source": []
  },
  {
   "cell_type": "code",
   "execution_count": null,
   "id": "00b40d50-cae8-4297-9a7b-b362089934e3",
   "metadata": {},
   "outputs": [],
   "source": []
  },
  {
   "cell_type": "code",
   "execution_count": null,
   "id": "f9f5c137-8be7-4b3e-adb7-57f2015466e7",
   "metadata": {},
   "outputs": [],
   "source": []
  },
  {
   "cell_type": "code",
   "execution_count": null,
   "id": "2ea367c2-77eb-4aae-832b-968bada91f81",
   "metadata": {},
   "outputs": [],
   "source": []
  },
  {
   "cell_type": "code",
   "execution_count": null,
   "id": "df4a6b47-b0d3-4ba2-aa50-8982ac4ba150",
   "metadata": {},
   "outputs": [],
   "source": []
  },
  {
   "cell_type": "code",
   "execution_count": null,
   "id": "031c3fa2-6725-4a09-9665-da99be8390f4",
   "metadata": {},
   "outputs": [],
   "source": []
  },
  {
   "cell_type": "code",
   "execution_count": null,
   "id": "2092dcf8-2755-4985-a335-8809a5735b4b",
   "metadata": {},
   "outputs": [],
   "source": []
  },
  {
   "cell_type": "code",
   "execution_count": null,
   "id": "d7e9a00f-d370-4806-876d-41591d4b1e79",
   "metadata": {},
   "outputs": [],
   "source": []
  },
  {
   "cell_type": "code",
   "execution_count": null,
   "id": "404ee770-8898-4758-be82-396b77556b0b",
   "metadata": {},
   "outputs": [],
   "source": []
  },
  {
   "cell_type": "code",
   "execution_count": null,
   "id": "0b6feaf6-760a-415e-b352-e043e0beeb40",
   "metadata": {},
   "outputs": [],
   "source": []
  }
 ],
 "metadata": {
  "kernelspec": {
   "display_name": "Python 3 (ipykernel)",
   "language": "python",
   "name": "python3"
  },
  "language_info": {
   "codemirror_mode": {
    "name": "ipython",
    "version": 3
   },
   "file_extension": ".py",
   "mimetype": "text/x-python",
   "name": "python",
   "nbconvert_exporter": "python",
   "pygments_lexer": "ipython3",
   "version": "3.10.8"
  }
 },
 "nbformat": 4,
 "nbformat_minor": 5
}
